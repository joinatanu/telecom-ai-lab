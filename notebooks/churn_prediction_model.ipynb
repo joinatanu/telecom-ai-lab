### Churn Prediction Model - RandomForestClassifier

#### 1. Load Data
"""
import pandas as pd
from sklearn.model_selection import train_test_split
from sklearn.ensemble import RandomForestClassifier
from sklearn.metrics import accuracy_score, confusion_matrix, classification_report

# Load data
df = pd.read_csv('../data/processed/churn_prediction_input.csv')

# Prepare features and target
X = df.drop(columns=['CustomerID', 'PartnerID', 'ChurnLabel'])
y = df['ChurnLabel']

"""
#### 2. Train/Test Split
"""
X_train, X_test, y_train, y_test = train_test_split(X, y, test_size=0.3, random_state=42)

"""
#### 3. Model Training
"""
model = RandomForestClassifier(n_estimators=100, random_state=42)
model.fit(X_train, y_train)

"""
#### 4. Model Evaluation
"""
predictions = model.predict(X_test)

print("Accuracy:", accuracy_score(y_test, predictions))
print("\nClassification Report:\n", classification_report(y_test, predictions))
print("\nConfusion Matrix:\n", confusion_matrix(y_test, predictions))

# Save the model (optional)
# import joblib
# joblib.dump(model, '../models/churn_rf_model.pkl')

"""
# End of notebook
"""
