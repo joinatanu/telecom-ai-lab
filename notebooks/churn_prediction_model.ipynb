# Content: Python notebook training RandomForestClassifier on churn_prediction_input.csv
# - Data load
# - Train/test split
# - Model training
# - Accuracy & confusion matrix output
